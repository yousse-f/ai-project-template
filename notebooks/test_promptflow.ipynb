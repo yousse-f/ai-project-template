{
 "cells": [
  {
   "cell_type": "code",
   "execution_count": null,
   "id": "3d040f7c",
   "metadata": {
    "vscode": {
     "languageId": "plaintext"
    }
   },
   "outputs": [],
   "source": [
    "import sys, os\n",
    "sys.path.append(os.path.abspath(\"../src\"))\n",
    "from importlib import reload\n"
   ]
  },
  {
   "cell_type": "code",
   "execution_count": null,
   "id": "1ceac9a0",
   "metadata": {
    "vscode": {
     "languageId": "plaintext"
    }
   },
   "outputs": [],
   "source": [
    "from promptforge.main import run_pipeline\n",
    "\n",
    "user_input = \"Spiegami l'intelligenza artificiale e che giorno è oggi\"\n",
    "response = run_pipeline(user_input)\n",
    "print(response)\n"
   ]
  },
  {
   "cell_type": "code",
   "execution_count": null,
   "id": "c433ea77",
   "metadata": {
    "vscode": {
     "languageId": "plaintext"
    }
   },
   "outputs": [],
   "source": [
    "from promptforge.analyzer import analyze_input\n",
    "from promptforge.planner import plan_tasks\n",
    "from promptforge.executor import execute_tasks\n",
    "from promptforge.composer import compose_response\n",
    "\n",
    "inp = \"Quanto fa 2+2 e chi ha inventato il machine learning?\"\n",
    "intents = analyze_input(inp)\n",
    "tasks = plan_tasks(intents)\n",
    "results = execute_tasks(tasks)\n",
    "final = compose_response(inp, results)\n",
    "print(final)\n"
   ]
  }
 ],
 "metadata": {
  "language_info": {
   "name": "python"
  }
 },
 "nbformat": 4,
 "nbformat_minor": 5
}
